{
  "cells": [
    {
      "cell_type": "markdown",
      "metadata": {
        "id": "view-in-github",
        "colab_type": "text"
      },
      "source": [
        "<a href=\"https://colab.research.google.com/github/ricardomgmorgado/argon-dashboard/blob/master/Trabalhando_com_sets_no_Python.ipynb\" target=\"_parent\"><img src=\"https://colab.research.google.com/assets/colab-badge.svg\" alt=\"Open In Colab\"/></a>"
      ]
    },
    {
      "cell_type": "markdown",
      "metadata": {
        "id": "hwdXSll0wgSW"
      },
      "source": [
        "## **Criação dos sets**"
      ]
    },
    {
      "cell_type": "markdown",
      "metadata": {
        "id": "yfaf8Gn6jALR"
      },
      "source": [
        "### **Utilizando as chavetas `{ }`:**\n",
        "\n",
        "\n"
      ]
    },
    {
      "cell_type": "code",
      "execution_count": null,
      "metadata": {
        "id": "6A1qeFDQEKuM"
      },
      "outputs": [],
      "source": [
        "# Sets com elementos diferentes\n",
        "\n",
        "elementos_diferentes = {2017, \"Onix\", 37123.04, True}\n",
        "print(elementos_diferentes)"
      ]
    },
    {
      "cell_type": "code",
      "execution_count": null,
      "metadata": {
        "id": "FK3qZ08ckgXK"
      },
      "outputs": [],
      "source": [
        "carros = {'Jetta Variant', 'Passat', 'Crossfox', 'Dodge Jorney'}\n",
        "\n",
        "print(carros)"
      ]
    },
    {
      "cell_type": "code",
      "execution_count": null,
      "metadata": {
        "id": "LSffwZiinhIP"
      },
      "outputs": [],
      "source": [
        "carros[0]"
      ]
    },
    {
      "cell_type": "code",
      "execution_count": null,
      "metadata": {
        "id": "dcccTfDPa_bH"
      },
      "outputs": [],
      "source": [
        "for i in carros:\n",
        "  print(i)"
      ]
    },
    {
      "cell_type": "markdown",
      "metadata": {
        "id": "A7YsVhE6jHxL"
      },
      "source": [
        "### **Utilizando listas e a função `set()`**"
      ]
    },
    {
      "cell_type": "code",
      "execution_count": null,
      "metadata": {
        "id": "SPF6Lemvr155"
      },
      "outputs": [],
      "source": [
        "lista_escolas = ['Data Science', 'Programação', 'Front-end',\n",
        "                 'Mobile', 'DevOps', 'UX & Design', 'Inovação e Gestão']"
      ]
    },
    {
      "cell_type": "code",
      "execution_count": null,
      "metadata": {
        "id": "z4XSX7EUQZTk"
      },
      "outputs": [],
      "source": [
        "escolas_set = set(lista_escolas)\n",
        "\n",
        "print(escolas_set)"
      ]
    },
    {
      "cell_type": "markdown",
      "metadata": {
        "id": "L65NhBb1jawr"
      },
      "source": [
        "### **Trabalhando com elementos repetidos:**"
      ]
    },
    {
      "cell_type": "code",
      "execution_count": null,
      "metadata": {
        "id": "VzHw4PPKr1-O"
      },
      "outputs": [],
      "source": [
        "lista_carros = ['Jetta Variant', 'Passat', 'Crossfox', 'Passat', 'Crossfox',\n",
        "                'Jetta Variant', 'Dodge Journey']\n",
        "nova_lista = set(lista_carros)"
      ]
    },
    {
      "cell_type": "code",
      "execution_count": null,
      "metadata": {
        "id": "LZAOxogMd8qW"
      },
      "outputs": [],
      "source": [
        "# Utilizando a função len() para verificar a quantidade de elementos\n",
        "print(len(lista_carros))"
      ]
    },
    {
      "cell_type": "code",
      "execution_count": null,
      "metadata": {
        "id": "rGMVqeWhd9YO"
      },
      "outputs": [],
      "source": [
        "print(nova_lista)"
      ]
    },
    {
      "cell_type": "code",
      "execution_count": null,
      "metadata": {
        "id": "rXUxHPawWq8x"
      },
      "outputs": [],
      "source": [
        "len(nova_lista)"
      ]
    },
    {
      "cell_type": "markdown",
      "metadata": {
        "id": "U8Ur2s1KQlgv"
      },
      "source": [
        "## **Operações com Sets**\n"
      ]
    },
    {
      "cell_type": "markdown",
      "metadata": {
        "id": "Jcko59YgXiT4"
      },
      "source": [
        "Para esse exercício, vamos precisar criar conjuntos com os **acessórios** de alguns modelos de carros, são eles: **Passat**, **Crossfox** e **Jetta Variant**."
      ]
    },
    {
      "cell_type": "code",
      "execution_count": null,
      "metadata": {
        "id": "zA95t7-YXoE4"
      },
      "outputs": [],
      "source": [
        "acessorios_passat = {'Jantes de Liga Leve', 'Travão Eléctrico', 'Piloto Automático',\n",
        "                     'Central Multimédia'}\n",
        "print(acessorios_passat)"
      ]
    },
    {
      "cell_type": "code",
      "execution_count": null,
      "metadata": {
        "id": "lfgMiNEyXoE5"
      },
      "outputs": [],
      "source": [
        "acessorios_crossfox = {'Piloto Automático', 'Teto Panorâmico', '4 X 4',\n",
        "                       'Central Multimédia'}\n",
        "print(acessorios_crossfox)"
      ]
    },
    {
      "cell_type": "code",
      "execution_count": null,
      "metadata": {
        "id": "2dsJa9sAXoE5"
      },
      "outputs": [],
      "source": [
        "acessorios_jetta = {'Controle de Estabilidade', 'Caixa Automática', 'Travão Eléctrico',\n",
        "                    'Jantes de Liga Leve'}\n",
        "print(acessorios_jetta)"
      ]
    },
    {
      "cell_type": "markdown",
      "metadata": {
        "id": "Pp7URtpTQnXn"
      },
      "source": [
        "### **Disjunção**"
      ]
    },
    {
      "cell_type": "markdown",
      "metadata": {
        "id": "IRmgINkLWsjs"
      },
      "source": [
        "<img src= 'https://i.imgur.com/o2wsgPo.png' width = 50%>"
      ]
    },
    {
      "cell_type": "code",
      "execution_count": null,
      "metadata": {
        "id": "n3GfcrMHW4nu"
      },
      "outputs": [],
      "source": [
        "set.isdisjoint(acessorios_passat, acessorios_crossfox)"
      ]
    },
    {
      "cell_type": "markdown",
      "metadata": {
        "id": "0YYUbNDFWpvB"
      },
      "source": [
        "### **Interseção**"
      ]
    },
    {
      "cell_type": "markdown",
      "metadata": {
        "id": "0OPz9M8vW-BZ"
      },
      "source": [
        "<img src= 'https://i.imgur.com/6W7bxU1.png' width = 50%>"
      ]
    },
    {
      "cell_type": "code",
      "execution_count": null,
      "metadata": {
        "id": "7Xg8Tyb3XIbs"
      },
      "outputs": [],
      "source": [
        "acessorios_passat & acessorios_crossfox"
      ]
    },
    {
      "cell_type": "code",
      "execution_count": null,
      "metadata": {
        "id": "xQ6X-XbsYz_T"
      },
      "outputs": [],
      "source": [
        "acessorios_passat & acessorios_jetta"
      ]
    },
    {
      "cell_type": "code",
      "execution_count": null,
      "metadata": {
        "id": "OHa9LqNdY2ht"
      },
      "outputs": [],
      "source": [
        "set.intersection(acessorios_passat, acessorios_crossfox, acessorios_jetta)"
      ]
    },
    {
      "cell_type": "markdown",
      "metadata": {
        "id": "GzUoqpFVZGIu"
      },
      "source": [
        "### **União**"
      ]
    },
    {
      "cell_type": "markdown",
      "metadata": {
        "id": "Me_90Pk7ZG9d"
      },
      "source": [
        "<img src= 'https://i.imgur.com/C3MrKmK.png' width = 50%>"
      ]
    },
    {
      "cell_type": "code",
      "execution_count": null,
      "metadata": {
        "id": "kYo9i7g5WrX_"
      },
      "outputs": [],
      "source": [
        "acessorios_passat | acessorios_crossfox"
      ]
    },
    {
      "cell_type": "code",
      "execution_count": null,
      "metadata": {
        "id": "h7RZmv19auKU"
      },
      "outputs": [],
      "source": [
        "set.union(acessorios_passat, acessorios_crossfox, acessorios_jetta, {'Teto de Abrir'})"
      ]
    },
    {
      "cell_type": "markdown",
      "metadata": {
        "id": "wMelozu-ijag"
      },
      "source": [
        "## **Perfomance**"
      ]
    },
    {
      "cell_type": "code",
      "execution_count": null,
      "metadata": {
        "id": "EhyRdV4CLvVX"
      },
      "outputs": [],
      "source": [
        "carros"
      ]
    },
    {
      "cell_type": "code",
      "execution_count": null,
      "metadata": {
        "id": "PnRZ7Dp0Lwrt"
      },
      "outputs": [],
      "source": [
        "'Crossfox' in carros"
      ]
    },
    {
      "cell_type": "markdown",
      "metadata": {
        "id": "xLpWitV6L0At"
      },
      "source": [
        "### **Perfomance com vários elementos**"
      ]
    },
    {
      "cell_type": "code",
      "execution_count": null,
      "metadata": {
        "id": "-OErengzhloO"
      },
      "outputs": [],
      "source": [
        "elementos_set = set(range(10000))\n",
        "elementos_list = list(range(10000))\n",
        "elementos_tuple = tuple(range(10000))"
      ]
    },
    {
      "cell_type": "code",
      "execution_count": null,
      "metadata": {
        "id": "r5v0f69hhQpJ"
      },
      "outputs": [],
      "source": [
        "def verificar_elemento_in(elemento_iteravel):\n",
        "\n",
        "  for i in range(10000):\n",
        "    if i in elemento_iteravel:\n",
        "      pass"
      ]
    },
    {
      "cell_type": "code",
      "execution_count": null,
      "metadata": {
        "id": "Ny1_EsyZJxea"
      },
      "outputs": [],
      "source": [
        "print(\"Tempo de execução set: \")\n",
        "%time verificar_elemento_in(elementos_set)\n",
        "print(\"=\"*30)\n",
        "\n",
        "print(\"Tempo de execução lista: \")\n",
        "%time verificar_elemento_in(elementos_list)\n",
        "print(\"=\"*30)\n",
        "\n",
        "print(\"Tempo de execução tuplas: \")\n",
        "%time verificar_elemento_in(elementos_tuple)\n",
        "print(\"=\"*30)"
      ]
    }
  ],
  "metadata": {
    "colab": {
      "provenance": [],
      "include_colab_link": true
    },
    "kernelspec": {
      "display_name": "Python 3",
      "name": "python3"
    },
    "language_info": {
      "codemirror_mode": {
        "name": "ipython",
        "version": 3
      },
      "file_extension": ".py",
      "mimetype": "text/x-python",
      "name": "python",
      "nbconvert_exporter": "python",
      "pygments_lexer": "ipython3",
      "version": "3.13.5"
    }
  },
  "nbformat": 4,
  "nbformat_minor": 0
}